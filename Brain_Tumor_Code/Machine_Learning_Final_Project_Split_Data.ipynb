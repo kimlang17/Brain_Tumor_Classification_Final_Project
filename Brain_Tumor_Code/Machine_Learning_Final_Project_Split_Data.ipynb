{
  "cells": [
    {
      "cell_type": "code",
      "execution_count": null,
      "metadata": {
        "id": "VZVu3xbalSjk"
      },
      "outputs": [],
      "source": [
        "import os\n",
        "from google.colab import drive\n",
        "import tensorflow as tf\n",
        "from tensorflow.keras.applications.resnet50 import ResNet50\n",
        "from tensorflow.keras.preprocessing.image import ImageDataGenerator\n",
        "import matplotlib.pyplot as plt"
      ]
    },
    {
      "cell_type": "code",
      "execution_count": null,
      "metadata": {
        "colab": {
          "base_uri": "https://localhost:8080/"
        },
        "id": "zOhoEx5qlb2K",
        "outputId": "40b81933-1a2f-4a8a-9371-cd9cdb7d4614"
      },
      "outputs": [
        {
          "name": "stdout",
          "output_type": "stream",
          "text": [
            "Mounted at /content/drive\n"
          ]
        }
      ],
      "source": [
        "# Mount Google Drive\n",
        "drive.mount('/content/drive')"
      ]
    },
    {
      "cell_type": "code",
      "execution_count": null,
      "metadata": {
        "colab": {
          "base_uri": "https://localhost:8080/"
        },
        "id": "en_oKlZqleRp",
        "outputId": "f6d75711-fc11-4075-a51d-713f1c1853b3"
      },
      "outputs": [
        {
          "name": "stdout",
          "output_type": "stream",
          "text": [
            "Found 2087 images in Healthy\n",
            "Copied 1669 images to /content/drive/MyDrive/Machine_Learning_Final_Project/Splitted_Data/train/Healthy, 208 images to /content/drive/MyDrive/Machine_Learning_Final_Project/Splitted_Data/validate/Healthy, and 210 images to /content/drive/MyDrive/Machine_Learning_Final_Project/Splitted_Data/test/Healthy.\n",
            "Found 2513 images in Brain_Tumor\n",
            "Copied 2010 images to /content/drive/MyDrive/Machine_Learning_Final_Project/Splitted_Data/train/Brain_Tumor, 251 images to /content/drive/MyDrive/Machine_Learning_Final_Project/Splitted_Data/validate/Brain_Tumor, and 252 images to /content/drive/MyDrive/Machine_Learning_Final_Project/Splitted_Data/test/Brain_Tumor.\n",
            "Data split into train, validate, and test folders successfully.\n"
          ]
        }
      ],
      "source": [
        "import os\n",
        "import random\n",
        "import shutil\n",
        "\n",
        "# Define paths\n",
        "base_folder = '/content/drive/MyDrive/Machine_Learning_Final_Project'\n",
        "train_folder = '/content/drive/MyDrive/Machine_Learning_Final_Project/Splitted_Data/train'\n",
        "validate_folder = '/content/drive/MyDrive/Machine_Learning_Final_Project/Splitted_Data/validate'\n",
        "test_folder = '/content/drive/MyDrive/Machine_Learning_Final_Project/Splitted_Data/test'\n",
        "\n",
        "# Define classes\n",
        "classes = ['Healthy', 'Brain_Tumor']\n",
        "\n",
        "# Create train, validate, and test folders\n",
        "if not os.path.exists(train_folder):\n",
        "    os.makedirs(train_folder)\n",
        "if not os.path.exists(validate_folder):\n",
        "    os.makedirs(validate_folder)\n",
        "if not os.path.exists(test_folder):\n",
        "    os.makedirs(test_folder)\n",
        "\n",
        "# Function to split data\n",
        "def split_data(class_name, base_class_path, train_class_path, validate_class_path, test_class_path, train_ratio=0.8, validate_ratio=0.1):\n",
        "    if not os.path.exists(train_class_path):\n",
        "        os.makedirs(train_class_path)\n",
        "    if not os.path.exists(validate_class_path):\n",
        "        os.makedirs(validate_class_path)\n",
        "    if not os.path.exists(test_class_path):\n",
        "        os.makedirs(test_class_path)\n",
        "\n",
        "    images = os.listdir(base_class_path)\n",
        "    print(f\"Found {len(images)} images in {class_name}\")\n",
        "\n",
        "    if len(images) == 0:\n",
        "        print(f\"No images found in {base_class_path}\")\n",
        "        return\n",
        "\n",
        "    random.shuffle(images)\n",
        "\n",
        "    train_size = int(len(images) * train_ratio)\n",
        "    validate_size = int(len(images) * validate_ratio)\n",
        "    train_images = images[:train_size]\n",
        "    validate_images = images[train_size:train_size + validate_size]\n",
        "    test_images = images[train_size + validate_size:]\n",
        "\n",
        "    for image in train_images:\n",
        "        shutil.copy(os.path.join(base_class_path, image), os.path.join(train_class_path, image))\n",
        "    for image in validate_images:\n",
        "        shutil.copy(os.path.join(base_class_path, image), os.path.join(validate_class_path, image))\n",
        "    for image in test_images:\n",
        "        shutil.copy(os.path.join(base_class_path, image), os.path.join(test_class_path, image))\n",
        "\n",
        "    print(f\"Copied {len(train_images)} images to {train_class_path}, {len(validate_images)} images to {validate_class_path}, and {len(test_images)} images to {test_class_path}.\")\n",
        "\n",
        "# Process each class\n",
        "for class_name in classes:\n",
        "    base_class_path = os.path.join(base_folder, class_name)\n",
        "    train_class_path = os.path.join(train_folder, class_name)\n",
        "    validate_class_path = os.path.join(validate_folder, class_name)\n",
        "    test_class_path = os.path.join(test_folder, class_name)\n",
        "\n",
        "    if not os.path.exists(base_class_path):\n",
        "        print(f\"Class folder {base_class_path} does not exist.\")\n",
        "        continue\n",
        "\n",
        "    split_data(class_name, base_class_path, train_class_path, validate_class_path, test_class_path)\n",
        "\n",
        "print(\"Data split into train, validate, and test folders successfully.\")\n"
      ]
    },
    {
      "cell_type": "code",
      "execution_count": null,
      "metadata": {
        "colab": {
          "base_uri": "https://localhost:8080/"
        },
        "id": "4zq3pcRlljbu",
        "outputId": "254dc25c-265c-4687-8274-51f05cc6d676"
      },
      "outputs": [
        {
          "name": "stdout",
          "output_type": "stream",
          "text": [
            "Drive already mounted at /content/drive; to attempt to forcibly remount, call drive.mount(\"/content/drive\", force_remount=True).\n",
            "Class Healthy contains 210 images.\n",
            "Class Brain_Tumor contains 252 images.\n"
          ]
        }
      ],
      "source": [
        "import os\n",
        "from google.colab import drive\n",
        "\n",
        "# Mount Google Drive\n",
        "drive.mount('/content/drive')\n",
        "\n",
        "# Define the path to the folder containing the class folders\n",
        "base_folder = '/content/drive/MyDrive/Machine_Learning_Final_Project/Splitted_Data/test'\n",
        "\n",
        "# Define the classes\n",
        "classes = ['Healthy', 'Brain_Tumor']\n",
        "\n",
        "# Function to count images in each class folder\n",
        "def count_images(class_name, class_path):\n",
        "    images = os.listdir(class_path)\n",
        "    num_images = len(images)\n",
        "    return num_images\n",
        "\n",
        "# Display the number of images in each class folder\n",
        "for class_name in classes:\n",
        "    class_path = os.path.join(base_folder, class_name)\n",
        "    if os.path.exists(class_path):\n",
        "        num_images = count_images(class_name, class_path)\n",
        "        print(f\"Class {class_name} contains {num_images} images.\")\n",
        "    else:\n",
        "        print(f\"Class folder {class_name} does not exist.\")\n"
      ]
    },
    {
      "cell_type": "code",
      "execution_count": null,
      "metadata": {
        "colab": {
          "base_uri": "https://localhost:8080/"
        },
        "id": "I-mwN1ZKlmj5",
        "outputId": "5f8913c7-9782-4b2e-b2c4-cb174173ff9e"
      },
      "outputs": [
        {
          "name": "stdout",
          "output_type": "stream",
          "text": [
            "Found 3679 images belonging to 2 classes.\n",
            "Found 459 images belonging to 2 classes.\n",
            "Found 462 images belonging to 2 classes.\n"
          ]
        }
      ],
      "source": [
        "# Paths to train, validate, and test folders\n",
        "train_dir = '/content/drive/MyDrive/Machine_Learning_Final_Project/Splitted_Data/train'\n",
        "validate_dir = '/content/drive/MyDrive/Machine_Learning_Final_Project/Splitted_Data/validate'\n",
        "test_dir = '/content/drive/MyDrive/Machine_Learning_Final_Project/Splitted_Data/test'\n",
        "\n",
        "# Image data generators\n",
        "train_datagen = ImageDataGenerator(rescale=1./255)\n",
        "validate_datagen = ImageDataGenerator(rescale=1./255)\n",
        "test_datagen = ImageDataGenerator(rescale=1./255)\n",
        "\n",
        "train_generator = train_datagen.flow_from_directory(\n",
        "    train_dir,\n",
        "    target_size=(224, 224),\n",
        "    batch_size=32,\n",
        "    class_mode='categorical'\n",
        ")\n",
        "\n",
        "validate_generator = validate_datagen.flow_from_directory(\n",
        "    validate_dir,\n",
        "    target_size=(224, 224),\n",
        "    batch_size=32,\n",
        "    class_mode='categorical'\n",
        ")\n",
        "\n",
        "test_generator = test_datagen.flow_from_directory(\n",
        "    test_dir,\n",
        "    target_size=(224, 224),\n",
        "    batch_size=32,\n",
        "    class_mode='categorical'\n",
        ")"
      ]
    }
  ],
  "metadata": {
    "colab": {
      "provenance": []
    },
    "kernelspec": {
      "display_name": "Python 3",
      "name": "python3"
    },
    "language_info": {
      "name": "python"
    }
  },
  "nbformat": 4,
  "nbformat_minor": 0
}
